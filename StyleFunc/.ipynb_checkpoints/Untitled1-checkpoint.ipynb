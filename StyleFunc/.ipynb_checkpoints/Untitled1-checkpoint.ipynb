{
 "cells": [
  {
   "cell_type": "code",
   "execution_count": null,
   "metadata": {},
   "outputs": [],
   "source": [
    "import tokenize\n",
    "import suji\n",
    "from crawling import getText, getOneText\n",
    "\n",
    "a = getText('http://114.71.103.80/new_db.php?q=select+*+from+code_submission+c%2C+%28select+id%2C+max%28regtime%29+a+from+code_submission+where+id+%3D+201911044++group+by+p_no%29+d+where+c.id+%3D+d.id+and+d.a+%3D+c.regtime+',  '4')\n",
    "\n",
    "\n",
    "num = 0\n",
    "for title in a:\n",
    "    num += 1\n",
    "    with open('hello.py', 'wb+') as fw:\n",
    "        fw.write(title.encode('utf-8'))\n",
    "\n",
    "    with open('hello.py', 'rb') as fr:\n",
    "        tokens = tokenize.tokenize(fr.readline)\n",
    "        # tokens = tokenize.generate_tokens(f.readline)\n",
    "        # pf.check_token(tokens)\n",
    "        try:\n",
    "            print(suji.OperatorBlank_Preference(tokens), num)\n",
    "        except:    # 예외가 발생했을 때 실행됨\n",
    "            print('코드상의 에러가 발생.')\n",
    "\n",
    "# with open('hello.py', 'rb') as f:\n",
    "#     tokens = tokenize.tokenize(f.readline)\n",
    "\n",
    "# with open('hello.py', 'rb') as f:\n",
    "#     tokens = tokenize.tokenize(f.readline)\n",
    "#     for tok in tokens:\n",
    "#         print(tokenize.tok_name[tok.type],\n",
    "#               tokenize.tok_name[tok.exact_type], repr(tok.string))\n",
    "\n",
    "\n",
    "# import tokenize\n",
    "# import preference as pf\n",
    "# from crawling import getText, getOneText\n",
    "\n",
    "\n",
    "# with open('hello.py', 'rb') as f:\n",
    "#     tokens = tokenize.tokenize(f.readline)\n",
    "#     print(pf.C_codingstyle_Preference(tokens))\n"
   ]
  }
 ],
 "metadata": {
  "kernelspec": {
   "display_name": "Python 3",
   "language": "python",
   "name": "python3"
  },
  "language_info": {
   "codemirror_mode": {
    "name": "ipython",
    "version": 3
   },
   "file_extension": ".py",
   "mimetype": "text/x-python",
   "name": "python",
   "nbconvert_exporter": "python",
   "pygments_lexer": "ipython3",
   "version": "3.7.4"
  }
 },
 "nbformat": 4,
 "nbformat_minor": 2
}
