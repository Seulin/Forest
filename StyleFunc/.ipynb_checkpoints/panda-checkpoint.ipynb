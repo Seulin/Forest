{
 "cells": [
  {
   "cell_type": "code",
   "execution_count": null,
   "metadata": {},
   "outputs": [],
   "source": [
    "import numpy as np\n",
    "import pandas as pd\n",
    "import tokenize\n",
    "import suji as suji\n",
    "from crawling import getText, getOneText\n",
    "\n",
    "users = getText('http://114.71.103.80/new_db.php?q=select+*+from+users%0D%0Alimit+10%0D%0A%0D%0A', '1')\n",
    "del users[0]\n",
    "idx=[]\n",
    "for i in range(70):\n",
    "    idx.append(i)\n",
    "df = pd.DataFrame(columns=list(users), index=idx)\n",
    "for user in users:\n",
    "    problems = getText('http://114.71.103.80/new_db.php?q=select+*+from+code_submission+c%2C+%28select+id%2C+max%28regtime%29+a+from+code_submission+where+id+%3D'+user+'+group+by+p_no%29+d+where+c.id+%3D+d.id+and+d.a+%3D+c.regtime+',  '4')\n",
    "    results=[]\n",
    "    for problem in problems:\n",
    "        with open('hello.py', 'wb+') as fw:\n",
    "            fw.write(problem.encode('utf-8'))\n",
    "\n",
    "        with open('hello.py', 'rb') as fr:\n",
    "            tokens = tokenize.tokenize(fr.readline)\n",
    "            try:\n",
    "                results.append(suji.EqOpBl(tokens))\n",
    "            except:\n",
    "                pass\n",
    "    df[user]=results"
   ]
  },
  {
   "cell_type": "code",
   "execution_count": null,
   "metadata": {},
   "outputs": [],
   "source": [
    "df"
   ]
  }
 ],
 "metadata": {
  "kernelspec": {
   "display_name": "Python 3",
   "language": "python",
   "name": "python3"
  },
  "language_info": {
   "codemirror_mode": {
    "name": "ipython",
    "version": 3
   },
   "file_extension": ".py",
   "mimetype": "text/x-python",
   "name": "python",
   "nbconvert_exporter": "python",
   "pygments_lexer": "ipython3",
   "version": "3.7.4"
  }
 },
 "nbformat": 4,
 "nbformat_minor": 2
}
