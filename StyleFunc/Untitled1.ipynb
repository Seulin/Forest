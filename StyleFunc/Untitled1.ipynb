{
 "cells": [
  {
   "cell_type": "code",
<<<<<<< HEAD
   "execution_count": 1,
   "metadata": {},
   "outputs": [
    {
     "ename": "AttributeError",
     "evalue": "'str' object has no attribute 'string'",
     "output_type": "error",
     "traceback": [
      "\u001b[1;31m---------------------------------------------------------------------------\u001b[0m",
      "\u001b[1;31mAttributeError\u001b[0m                            Traceback (most recent call last)",
      "\u001b[1;32m<ipython-input-1-8ce8b686cc37>\u001b[0m in \u001b[0;36m<module>\u001b[1;34m\u001b[0m\n\u001b[0;32m     31\u001b[0m \u001b[1;32mfor\u001b[0m \u001b[0muser\u001b[0m \u001b[1;32min\u001b[0m \u001b[0musers\u001b[0m\u001b[1;33m:\u001b[0m\u001b[1;33m\u001b[0m\u001b[1;33m\u001b[0m\u001b[0m\n\u001b[0;32m     32\u001b[0m     \u001b[0mproblems\u001b[0m \u001b[1;33m=\u001b[0m \u001b[0mgetText\u001b[0m\u001b[1;33m(\u001b[0m\u001b[1;34m'http://114.71.103.80/new_db.php?q=select+*+from+code_submission+c%2C+%28select+id%2C+max%28regtime%29+a+from+code_submission+where+id+%3D'\u001b[0m\u001b[1;33m+\u001b[0m\u001b[0muser\u001b[0m\u001b[1;33m+\u001b[0m\u001b[1;34m'+group+by+p_no%29+d+where+c.id+%3D+d.id+and+d.a+%3D+c.regtime+'\u001b[0m\u001b[1;33m,\u001b[0m  \u001b[1;34m'4'\u001b[0m\u001b[1;33m)\u001b[0m\u001b[1;33m\u001b[0m\u001b[1;33m\u001b[0m\u001b[0m\n\u001b[1;32m---> 33\u001b[1;33m     \u001b[0mprint\u001b[0m\u001b[1;33m(\u001b[0m\u001b[0mlocal_naming\u001b[0m\u001b[1;33m(\u001b[0m\u001b[0mproblems\u001b[0m\u001b[1;33m)\u001b[0m\u001b[1;33m,\u001b[0m \u001b[0muser\u001b[0m\u001b[1;33m)\u001b[0m\u001b[1;33m\u001b[0m\u001b[1;33m\u001b[0m\u001b[0m\n\u001b[0m",
      "\u001b[1;32m<ipython-input-1-8ce8b686cc37>\u001b[0m in \u001b[0;36mlocal_naming\u001b[1;34m(tokens)\u001b[0m\n\u001b[0;32m     11\u001b[0m     \u001b[0mi\u001b[0m\u001b[1;33m=\u001b[0m\u001b[1;36m0\u001b[0m\u001b[1;33m\u001b[0m\u001b[1;33m\u001b[0m\u001b[0m\n\u001b[0;32m     12\u001b[0m     \u001b[1;32mfor\u001b[0m \u001b[0mtok\u001b[0m \u001b[1;32min\u001b[0m \u001b[0mtokens\u001b[0m\u001b[1;33m:\u001b[0m\u001b[1;33m\u001b[0m\u001b[1;33m\u001b[0m\u001b[0m\n\u001b[1;32m---> 13\u001b[1;33m         \u001b[1;32mif\u001b[0m\u001b[1;33m(\u001b[0m\u001b[0mtok\u001b[0m\u001b[1;33m.\u001b[0m\u001b[0mstring\u001b[0m \u001b[1;33m==\u001b[0m \u001b[1;34m'class'\u001b[0m\u001b[1;33m)\u001b[0m\u001b[1;33m:\u001b[0m\u001b[1;33m\u001b[0m\u001b[1;33m\u001b[0m\u001b[0m\n\u001b[0m\u001b[0;32m     14\u001b[0m             \u001b[0min_class\u001b[0m\u001b[1;33m=\u001b[0m\u001b[1;32mTrue\u001b[0m\u001b[1;33m\u001b[0m\u001b[1;33m\u001b[0m\u001b[0m\n\u001b[0;32m     15\u001b[0m         \u001b[1;32mif\u001b[0m\u001b[1;33m(\u001b[0m\u001b[0min_class\u001b[0m\u001b[1;33m==\u001b[0m\u001b[1;32mTrue\u001b[0m\u001b[1;33m)\u001b[0m\u001b[1;33m:\u001b[0m\u001b[1;33m\u001b[0m\u001b[1;33m\u001b[0m\u001b[0m\n",
      "\u001b[1;31mAttributeError\u001b[0m: 'str' object has no attribute 'string'"
=======
<<<<<<< HEAD
   "execution_count": 1,
=======
   "execution_count": null,
>>>>>>> 75e965d18611dc06c2cf82ce7c3504732e125eee
   "metadata": {},
   "outputs": [
    {
     "name": "stdout",
     "output_type": "stream",
     "text": [
<<<<<<< HEAD
      "[2, 0, 2] 1\n",
      "[19, 29, 48] 2\n",
      "[14, 4, 18] 3\n",
      "[8, 1, 9] 4\n",
      "[17, 6, 23] 5\n",
      "[16, 4, 20] 6\n",
      "[16, 2, 18] 7\n",
      "[24, 5, 29] 8\n",
      "[33, 9, 42] 9\n",
      "[21, 1, 22] 10\n",
      "[41, 3, 44] 11\n",
      "[24, 1, 25] 12\n",
      "[31, 4, 35] 13\n",
      "[42, 9, 51] 14\n",
      "[39, 1, 40] 15\n",
      "[34, 11, 45] 16\n",
      "[46, 4, 50] 17\n",
      "코드상의 에러가 발생.\n",
      "[26, 24, 50] 19\n",
      "[39, 1, 40] 20\n",
      "[20, 0, 20] 21\n",
      "[28, 0, 28] 22\n",
      "[30, 11, 41] 23\n",
      "[47, 13, 60] 24\n",
      "[25, 5, 30] 25\n",
      "[51, 12, 63] 26\n",
      "[23, 0, 23] 27\n",
      "[33, 6, 39] 28\n",
      "[34, 14, 48] 29\n",
      "[32, 22, 54] 30\n",
      "[39, 2, 41] 31\n",
      "[38, 15, 53] 32\n",
      "[15, 9, 24] 33\n",
      "코드상의 에러가 발생.\n",
      "[61, 28, 89] 35\n",
      "[42, 17, 59] 36\n",
      "[30, 5, 35] 37\n",
      "[42, 15, 57] 38\n",
      "[28, 6, 34] 39\n",
      "[80, 14, 94] 40\n",
      "[21, 4, 25] 41\n",
      "[71, 31, 102] 42\n",
      "[35, 44, 79] 43\n",
      "[31, 10, 41] 44\n",
      "[26, 0, 26] 45\n",
      "[66, 55, 121] 46\n",
      "[15, 11, 26] 47\n",
      "[25, 9, 34] 48\n",
      "[80, 24, 104] 49\n",
      "[74, 27, 101] 50\n",
      "[76, 33, 109] 51\n",
      "[84, 8, 92] 52\n",
      "[26, 11, 37] 53\n",
      "[28, 6, 34] 54\n",
      "[22, 7, 29] 55\n",
      "[30, 10, 40] 56\n",
      "[114, 31, 145] 57\n",
      "[47, 49, 96] 58\n",
      "[78, 14, 92] 59\n",
      "[401, 783, 1184] 60\n"
=======
      "([0, 0, 9, 0, 50, 374, 0], 5) 201411023\n",
      "([0, 2, 26, 0, 66, 709, 0], 5) 201411085\n",
      "([0, 0, 12, 0, 77, 521, 0], 5) 201411130\n",
      "([3, 0, 8, 0, 83, 444, 0], 5) 201411153\n",
      "([0, 0, 2, 0, 52, 485, 0], 5) 201511020\n",
      "([2, 2, 45, 5, 60, 613, 0], 5) 201511057\n",
      "([0, 8, 5, 1, 55, 625, 0], 5) 201511080\n",
      "([0, 2, 13, 1, 72, 624, 0], 5) 201511153\n",
      "([0, 0, 7, 0, 53, 514, 0], 5) 201611074\n",
      "([0, 0, 0, 0, 0, 0, 0], 0) 201611101\n",
      "([1, 2, 19, 0, 85, 569, 0], 5) 201611104\n",
      "([0, 2, 1, 0, 81, 559, 0], 5) 201611155\n",
      "([0, 2, 7, 0, 136, 567, 0], 5) 201611161\n",
      "([0, 2, 11, 3, 53, 364, 0], 5) 201611172\n",
      "([0, 6, 30, 0, 87, 632, 0], 5) 201711036\n",
      "([0, 3, 9, 0, 100, 634, 0], 5) 201711084\n",
      "([0, 0, 10, 6, 39, 296, 0], 5) 201711091\n",
      "([0, 2, 5, 0, 85, 511, 0], 5) 201711094\n",
      "([0, 0, 0, 0, 0, 0, 0], 0) 201811003\n",
      "([0, 0, 8, 3, 60, 631, 0], 5) 201811004\n",
      "([0, 2, 3, 0, 94, 600, 0], 5) 201811017\n",
      "([0, 2, 43, 0, 95, 697, 0], 5) 201811032\n",
      "([0, 0, 23, 5, 30, 265, 0], 5) 201811034\n",
      "([1, 2, 34, 0, 91, 631, 0], 5) 201811046\n",
      "([0, 5, 3, 0, 87, 614, 0], 5) 201811048\n",
      "([0, 3, 1, 0, 80, 555, 0], 5) 201811054\n",
      "([2, 2, 4, 0, 81, 501, 0], 5) 201811075\n",
      "([0, 2, 8, 0, 72, 487, 0], 5) 201811076\n",
      "([0, 3, 3, 0, 87, 591, 0], 5) 201811087\n",
      "([4, 4, 4, 0, 126, 598, 0], 5) 201811090\n",
      "([0, 2, 5, 1, 56, 487, 0], 5) 201811098\n",
      "([3, 6, 9, 2, 87, 556, 0], 5) 201811103\n",
      "([0, 1, 2, 0, 94, 543, 0], 5) 201811105\n",
      "([0, 2, 4, 0, 127, 600, 0], 5) 201811121\n",
      "([0, 2, 3, 0, 112, 650, 0], 5) 201811125\n",
      "([0, 0, 4, 0, 58, 452, 0], 5) 201811140\n",
      "([0, 1, 1, 1, 33, 394, 0], 5) 201811141\n",
      "([0, 1, 6, 3, 62, 516, 0], 5) 201811143\n",
      "([0, 5, 12, 2, 81, 613, 0], 5) 201811145\n",
      "([0, 0, 12, 1, 66, 435, 0], 5) 201811146\n",
      "([3, 2, 15, 9, 109, 643, 0], 5) 201811147\n",
      "([0, 5, 2, 0, 67, 530, 0], 5) 201811148\n",
      "([0, 2, 3, 0, 65, 574, 0], 5) 201811157\n",
      "([0, 0, 1, 0, 45, 444, 0], 5) 201811172\n",
      "([1, 2, 4, 0, 100, 579, 0], 5) 201811181\n",
      "([0, 0, 9, 0, 65, 642, 0], 5) 201811191\n",
      "([0, 2, 7, 4, 77, 533, 0], 5) 201811193\n",
      "([0, 5, 7, 0, 37, 359, 0], 5) 201822019\n",
      "([0, 2, 6, 1, 50, 477, 0], 5) 201822021\n",
      "([0, 0, 4, 0, 31, 272, 0], 5) 201822022\n"
>>>>>>> 75e965d18611dc06c2cf82ce7c3504732e125eee
>>>>>>> b14ca2ebd0b2fdbd2c2906d2728ca90478db1bf6
     ]
    }
   ],
   "source": [
    "import tokenize\n",
<<<<<<< HEAD
    "import suji\n",
    "from crawling import getText, getOneText\n",
    "\n",
    "a = getText('http://114.71.103.80/new_db.php?q=select+*+from+code_submission+c%2C+%28select+id%2C+max%28regtime%29+a+from+code_submission+where+id+%3D+201911044++group+by+p_no%29+d+where+c.id+%3D+d.id+and+d.a+%3D+c.regtime+',  '4')\n",
    "\n",
    "\n",
    "num = 0\n",
    "for title in a:\n",
    "    num += 1\n",
    "    with open('hello.py', 'wb+') as fw:\n",
    "        fw.write(title.encode('utf-8'))\n",
    "\n",
    "    with open('hello.py', 'rb') as fr:\n",
    "        tokens = tokenize.tokenize(fr.readline)\n",
    "        # tokens = tokenize.generate_tokens(f.readline)\n",
    "        # pf.check_token(tokens)\n",
    "        try:\n",
    "            print(suji.OperatorBlank_Preference(tokens), num)\n",
    "        except:    # 예외가 발생했을 때 실행됨\n",
    "            print('코드상의 에러가 발생.')\n",
    "\n",
    "# with open('hello.py', 'rb') as f:\n",
    "#     tokens = tokenize.tokenize(f.readline)\n",
    "\n",
    "# with open('hello.py', 'rb') as f:\n",
    "#     tokens = tokenize.tokenize(f.readline)\n",
    "#     for tok in tokens:\n",
    "#         print(tokenize.tok_name[tok.type],\n",
    "#               tokenize.tok_name[tok.exact_type], repr(tok.string))\n",
    "\n",
    "\n",
    "# import tokenize\n",
    "# import preference as pf\n",
    "# from crawling import getText, getOneText\n",
    "\n",
    "\n",
    "# with open('hello.py', 'rb') as f:\n",
    "#     tokens = tokenize.tokenize(f.readline)\n",
    "#     print(pf.C_codingstyle_Preference(tokens))\n"
=======
    "import naming as naming\n",
    "from crawling import getText, getOneText\n",
    "\n",
    "def local_naming(tokens):\n",
    "    #local 변수의 시작 '_' 여부\n",
    "    #parameter: tokenize된 값\n",
    "    #return: Array(2) => 0: '_'가 붙은 local 변수 개수 1: 전체 local 변수 개수\n",
    "    result = [0, 0]\n",
    "    in_class=False\n",
    "    i=0\n",
    "    for tok in tokens:\n",
    "        if(tok.string == 'class'):\n",
    "            in_class=True\n",
    "        if(in_class==True):\n",
    "            if (tokenize.tok_name[tok.exact_type] == \"INDENT\"):\n",
    "                num_i+=1\n",
    "            if (tokenize.tok_name[tok.exact_type] == \"DEDENT\"):\n",
    "                num_d+=1\n",
    "            if (tokenize.tok_name[tok.exact_type] == \"NAME\"):\n",
    "                if (tok.string != \"def\"):\n",
    "                    result[1]+=1\n",
    "                    if (tok.string[0] == \"_\"):\n",
    "                        result[0]+=1\n",
    "            if (num_i==num_d):\n",
    "                in_class=False\n",
    "\n",
    "    return result\n",
    "users = getText('http://114.71.103.80/new_db.php?q=select+*+from+users+limit+100','1')\n",
    "del users[0]\n",
    "for user in users:\n",
    "    problems = getText('http://114.71.103.80/new_db.php?q=select+*+from+code_submission+c%2C+%28select+id%2C+max%28regtime%29+a+from+code_submission+where+id+%3D'+user+'+group+by+p_no%29+d+where+c.id+%3D+d.id+and+d.a+%3D+c.regtime+',  '4')\n",
<<<<<<< HEAD
    "    print(local_naming(problems), user)"
=======
    "    print(num_naming_variances(problems), user)"
>>>>>>> 75e965d18611dc06c2cf82ce7c3504732e125eee
>>>>>>> b14ca2ebd0b2fdbd2c2906d2728ca90478db1bf6
   ]
  },
  {
   "cell_type": "code",
   "execution_count": null,
   "metadata": {},
   "outputs": [],
   "source": []
  }
 ],
 "metadata": {
  "kernelspec": {
   "display_name": "Python 3",
   "language": "python",
   "name": "python3"
<<<<<<< HEAD
=======
<<<<<<< HEAD
>>>>>>> b14ca2ebd0b2fdbd2c2906d2728ca90478db1bf6
  },
  "language_info": {
   "codemirror_mode": {
    "name": "ipython",
    "version": 3
   },
   "file_extension": ".py",
   "mimetype": "text/x-python",
   "name": "python",
   "nbconvert_exporter": "python",
   "pygments_lexer": "ipython3",
   "version": "3.7.4"
<<<<<<< HEAD
=======
=======
>>>>>>> 75e965d18611dc06c2cf82ce7c3504732e125eee
>>>>>>> b14ca2ebd0b2fdbd2c2906d2728ca90478db1bf6
  }
 },
 "nbformat": 4,
 "nbformat_minor": 2
}
