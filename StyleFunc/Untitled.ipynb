{
 "cells": [
  {
   "cell_type": "code",
   "execution_count": 31,
   "metadata": {
    "scrolled": true
   },
   "outputs": [
    {
     "name": "stdout",
     "output_type": "stream",
     "text": [
      "TokenInfo(type=1 (NAME), string='aa', start=(1, 0), end=(1, 2), line='aa = 60\\n')\n",
      "TokenInfo(type=53 (OP), string='=', start=(1, 3), end=(1, 4), line='aa = 60\\n')\n",
      "TokenInfo(type=2 (NUMBER), string='60', start=(1, 5), end=(1, 7), line='aa = 60\\n')\n",
      "TokenInfo(type=4 (NEWLINE), string='\\n', start=(1, 7), end=(1, 8), line='aa = 60\\n')\n",
      "TokenInfo(type=1 (NAME), string='bb', start=(2, 0), end=(2, 2), line='bb = 1 if (aa <= 0) else aa\\n')\n",
      "TokenInfo(type=53 (OP), string='=', start=(2, 3), end=(2, 4), line='bb = 1 if (aa <= 0) else aa\\n')\n",
      "TokenInfo(type=2 (NUMBER), string='1', start=(2, 5), end=(2, 6), line='bb = 1 if (aa <= 0) else aa\\n')\n",
      "TokenInfo(type=1 (NAME), string='if', start=(2, 7), end=(2, 9), line='bb = 1 if (aa <= 0) else aa\\n')\n",
      "TokenInfo(type=53 (OP), string='(', start=(2, 10), end=(2, 11), line='bb = 1 if (aa <= 0) else aa\\n')\n",
      "TokenInfo(type=1 (NAME), string='aa', start=(2, 11), end=(2, 13), line='bb = 1 if (aa <= 0) else aa\\n')\n",
      "TokenInfo(type=53 (OP), string='<=', start=(2, 14), end=(2, 16), line='bb = 1 if (aa <= 0) else aa\\n')\n",
      "TokenInfo(type=2 (NUMBER), string='0', start=(2, 17), end=(2, 18), line='bb = 1 if (aa <= 0) else aa\\n')\n",
      "TokenInfo(type=53 (OP), string=')', start=(2, 18), end=(2, 19), line='bb = 1 if (aa <= 0) else aa\\n')\n",
      "TokenInfo(type=1 (NAME), string='else', start=(2, 20), end=(2, 24), line='bb = 1 if (aa <= 0) else aa\\n')\n",
      "TokenInfo(type=1 (NAME), string='aa', start=(2, 25), end=(2, 27), line='bb = 1 if (aa <= 0) else aa\\n')\n",
      "TokenInfo(type=4 (NEWLINE), string='\\n', start=(2, 27), end=(2, 28), line='bb = 1 if (aa <= 0) else aa\\n')\n",
      "TokenInfo(type=1 (NAME), string='print', start=(3, 0), end=(3, 5), line=\"print(f'{aa} {bb}')  # aa=0 bb=1\\n\")\n",
      "TokenInfo(type=53 (OP), string='(', start=(3, 5), end=(3, 6), line=\"print(f'{aa} {bb}')  # aa=0 bb=1\\n\")\n",
      "TokenInfo(type=3 (STRING), string=\"f'{aa} {bb}'\", start=(3, 6), end=(3, 18), line=\"print(f'{aa} {bb}')  # aa=0 bb=1\\n\")\n",
      "TokenInfo(type=53 (OP), string=')', start=(3, 18), end=(3, 19), line=\"print(f'{aa} {bb}')  # aa=0 bb=1\\n\")\n",
      "TokenInfo(type=55 (COMMENT), string='# aa=0 bb=1', start=(3, 21), end=(3, 32), line=\"print(f'{aa} {bb}')  # aa=0 bb=1\\n\")\n",
      "TokenInfo(type=4 (NEWLINE), string='\\n', start=(3, 32), end=(3, 33), line=\"print(f'{aa} {bb}')  # aa=0 bb=1\\n\")\n",
      "TokenInfo(type=56 (NL), string='\\n', start=(4, 0), end=(4, 1), line='\\n')\n",
      "TokenInfo(type=1 (NAME), string='if', start=(5, 0), end=(5, 2), line='if(aa == 0):\\n')\n",
      "TokenInfo(type=53 (OP), string='(', start=(5, 2), end=(5, 3), line='if(aa == 0):\\n')\n",
      "TokenInfo(type=1 (NAME), string='aa', start=(5, 3), end=(5, 5), line='if(aa == 0):\\n')\n",
      "TokenInfo(type=53 (OP), string='==', start=(5, 6), end=(5, 8), line='if(aa == 0):\\n')\n",
      "TokenInfo(type=2 (NUMBER), string='0', start=(5, 9), end=(5, 10), line='if(aa == 0):\\n')\n",
      "TokenInfo(type=53 (OP), string=')', start=(5, 10), end=(5, 11), line='if(aa == 0):\\n')\n",
      "TokenInfo(type=53 (OP), string=':', start=(5, 11), end=(5, 12), line='if(aa == 0):\\n')\n",
      "TokenInfo(type=4 (NEWLINE), string='\\n', start=(5, 12), end=(5, 13), line='if(aa == 0):\\n')\n",
      "TokenInfo(type=5 (INDENT), string='    ', start=(6, 0), end=(6, 4), line='    print()\\n')\n",
      "TokenInfo(type=1 (NAME), string='print', start=(6, 4), end=(6, 9), line='    print()\\n')\n",
      "TokenInfo(type=53 (OP), string='(', start=(6, 9), end=(6, 10), line='    print()\\n')\n",
      "TokenInfo(type=53 (OP), string=')', start=(6, 10), end=(6, 11), line='    print()\\n')\n",
      "TokenInfo(type=4 (NEWLINE), string='\\n', start=(6, 11), end=(6, 12), line='    print()\\n')\n",
      "TokenInfo(type=56 (NL), string='\\n', start=(7, 0), end=(7, 1), line='\\n')\n",
      "TokenInfo(type=6 (DEDENT), string='', start=(8, 0), end=(8, 0), line='aa = 60\\n')\n",
      "TokenInfo(type=1 (NAME), string='aa', start=(8, 0), end=(8, 2), line='aa = 60\\n')\n",
      "TokenInfo(type=53 (OP), string='=', start=(8, 3), end=(8, 4), line='aa = 60\\n')\n",
      "TokenInfo(type=2 (NUMBER), string='60', start=(8, 5), end=(8, 7), line='aa = 60\\n')\n",
      "TokenInfo(type=4 (NEWLINE), string='\\n', start=(8, 7), end=(8, 8), line='aa = 60\\n')\n",
      "TokenInfo(type=56 (NL), string='\\n', start=(9, 0), end=(9, 1), line='\\n')\n",
      "TokenInfo(type=1 (NAME), string='bb', start=(10, 0), end=(10, 2), line='bb = 1 if (aa <= 0) else aa\\n')\n",
      "TokenInfo(type=53 (OP), string='=', start=(10, 3), end=(10, 4), line='bb = 1 if (aa <= 0) else aa\\n')\n",
      "TokenInfo(type=2 (NUMBER), string='1', start=(10, 5), end=(10, 6), line='bb = 1 if (aa <= 0) else aa\\n')\n",
      "TokenInfo(type=1 (NAME), string='if', start=(10, 7), end=(10, 9), line='bb = 1 if (aa <= 0) else aa\\n')\n",
      "TokenInfo(type=53 (OP), string='(', start=(10, 10), end=(10, 11), line='bb = 1 if (aa <= 0) else aa\\n')\n",
      "TokenInfo(type=1 (NAME), string='aa', start=(10, 11), end=(10, 13), line='bb = 1 if (aa <= 0) else aa\\n')\n",
      "TokenInfo(type=53 (OP), string='<=', start=(10, 14), end=(10, 16), line='bb = 1 if (aa <= 0) else aa\\n')\n",
      "TokenInfo(type=2 (NUMBER), string='0', start=(10, 17), end=(10, 18), line='bb = 1 if (aa <= 0) else aa\\n')\n",
      "TokenInfo(type=53 (OP), string=')', start=(10, 18), end=(10, 19), line='bb = 1 if (aa <= 0) else aa\\n')\n",
      "TokenInfo(type=1 (NAME), string='else', start=(10, 20), end=(10, 24), line='bb = 1 if (aa <= 0) else aa\\n')\n",
      "TokenInfo(type=1 (NAME), string='aa', start=(10, 25), end=(10, 27), line='bb = 1 if (aa <= 0) else aa\\n')\n",
      "TokenInfo(type=4 (NEWLINE), string='\\n', start=(10, 27), end=(10, 28), line='bb = 1 if (aa <= 0) else aa\\n')\n",
      "TokenInfo(type=1 (NAME), string='print', start=(11, 0), end=(11, 5), line=\"print(f'{aa} {bb}')  # aa=0 bb=1\\n\")\n",
      "TokenInfo(type=53 (OP), string='(', start=(11, 5), end=(11, 6), line=\"print(f'{aa} {bb}')  # aa=0 bb=1\\n\")\n",
      "TokenInfo(type=3 (STRING), string=\"f'{aa} {bb}'\", start=(11, 6), end=(11, 18), line=\"print(f'{aa} {bb}')  # aa=0 bb=1\\n\")\n",
      "TokenInfo(type=53 (OP), string=')', start=(11, 18), end=(11, 19), line=\"print(f'{aa} {bb}')  # aa=0 bb=1\\n\")\n",
      "TokenInfo(type=55 (COMMENT), string='# aa=0 bb=1', start=(11, 21), end=(11, 32), line=\"print(f'{aa} {bb}')  # aa=0 bb=1\\n\")\n",
      "TokenInfo(type=4 (NEWLINE), string='\\n', start=(11, 32), end=(11, 33), line=\"print(f'{aa} {bb}')  # aa=0 bb=1\\n\")\n",
      "TokenInfo(type=0 (ENDMARKER), string='', start=(12, 0), end=(12, 0), line='')\n"
     ]
    }
   ],
   "source": [
    "import tokenize\n",
    "\n",
    "with tokenize.open('hello.py') as f:\n",
    "    tokens = tokenize.generate_tokens(f.readline)\n",
    "    for token in tokens:\n",
    "        print(token)"
   ]
  },
  {
   "cell_type": "code",
   "execution_count": 16,
   "metadata": {},
   "outputs": [
    {
     "name": "stdout",
     "output_type": "stream",
     "text": [
      "TokenInfo(type=57 (ENCODING), string='utf-8', start=(0, 0), end=(0, 0), line='')\n",
      "TokenInfo(type=1 (NAME), string='aa', start=(1, 0), end=(1, 2), line='aa = 60\\r\\n')\n",
      "TokenInfo(type=53 (OP), string='=', start=(1, 3), end=(1, 4), line='aa = 60\\r\\n')\n",
      "TokenInfo(type=2 (NUMBER), string='60', start=(1, 5), end=(1, 7), line='aa = 60\\r\\n')\n",
      "TokenInfo(type=4 (NEWLINE), string='\\r\\n', start=(1, 7), end=(1, 9), line='aa = 60\\r\\n')\n",
      "TokenInfo(type=1 (NAME), string='bb', start=(2, 0), end=(2, 2), line='bb = 1 if (aa == 0) else aa\\r\\n')\n",
      "TokenInfo(type=53 (OP), string='=', start=(2, 3), end=(2, 4), line='bb = 1 if (aa == 0) else aa\\r\\n')\n",
      "TokenInfo(type=2 (NUMBER), string='1', start=(2, 5), end=(2, 6), line='bb = 1 if (aa == 0) else aa\\r\\n')\n",
      "TokenInfo(type=1 (NAME), string='if', start=(2, 7), end=(2, 9), line='bb = 1 if (aa == 0) else aa\\r\\n')\n",
      "TokenInfo(type=53 (OP), string='(', start=(2, 10), end=(2, 11), line='bb = 1 if (aa == 0) else aa\\r\\n')\n",
      "TokenInfo(type=1 (NAME), string='aa', start=(2, 11), end=(2, 13), line='bb = 1 if (aa == 0) else aa\\r\\n')\n",
      "TokenInfo(type=53 (OP), string='==', start=(2, 14), end=(2, 16), line='bb = 1 if (aa == 0) else aa\\r\\n')\n",
      "TokenInfo(type=2 (NUMBER), string='0', start=(2, 17), end=(2, 18), line='bb = 1 if (aa == 0) else aa\\r\\n')\n",
      "TokenInfo(type=53 (OP), string=')', start=(2, 18), end=(2, 19), line='bb = 1 if (aa == 0) else aa\\r\\n')\n",
      "TokenInfo(type=1 (NAME), string='else', start=(2, 20), end=(2, 24), line='bb = 1 if (aa == 0) else aa\\r\\n')\n",
      "TokenInfo(type=1 (NAME), string='aa', start=(2, 25), end=(2, 27), line='bb = 1 if (aa == 0) else aa\\r\\n')\n",
      "TokenInfo(type=4 (NEWLINE), string='\\r\\n', start=(2, 27), end=(2, 29), line='bb = 1 if (aa == 0) else aa\\r\\n')\n",
      "TokenInfo(type=1 (NAME), string='print', start=(3, 0), end=(3, 5), line=\"print(f'{aa} {bb}')  # aa=0 bb=1\\r\\n\")\n",
      "TokenInfo(type=53 (OP), string='(', start=(3, 5), end=(3, 6), line=\"print(f'{aa} {bb}')  # aa=0 bb=1\\r\\n\")\n",
      "TokenInfo(type=3 (STRING), string=\"f'{aa} {bb}'\", start=(3, 6), end=(3, 18), line=\"print(f'{aa} {bb}')  # aa=0 bb=1\\r\\n\")\n",
      "TokenInfo(type=53 (OP), string=')', start=(3, 18), end=(3, 19), line=\"print(f'{aa} {bb}')  # aa=0 bb=1\\r\\n\")\n",
      "TokenInfo(type=55 (COMMENT), string='# aa=0 bb=1', start=(3, 21), end=(3, 32), line=\"print(f'{aa} {bb}')  # aa=0 bb=1\\r\\n\")\n",
      "TokenInfo(type=4 (NEWLINE), string='\\r\\n', start=(3, 32), end=(3, 34), line=\"print(f'{aa} {bb}')  # aa=0 bb=1\\r\\n\")\n",
      "TokenInfo(type=0 (ENDMARKER), string='', start=(4, 0), end=(4, 0), line='')\n"
     ]
    }
   ],
   "source": [
    "import tokenize\n",
    "\n",
    "with open('hello.py', 'rb') as f:\n",
    "    tokens = tokenize.tokenize(f.readline)\n",
    "    for token in tokens:\n",
    "        print(token)"
   ]
  },
  {
   "cell_type": "code",
   "execution_count": 6,
   "metadata": {
    "scrolled": true
   },
   "outputs": [
    {
     "name": "stdout",
     "output_type": "stream",
     "text": [
      "ENCODING ENCODING 'utf-8'\n",
      "NAME NAME 'name'\n",
      "OP EQUAL '='\n",
      "STRING STRING '\"Kildong\"'\n",
      "COMMENT COMMENT '# 이름'\n",
      "NEWLINE NEWLINE '\\r\\n'\n",
      "NAME NAME 'dept'\n",
      "OP EQUAL '='\n",
      "STRING STRING '\"IT\"'\n",
      "COMMENT COMMENT '# 부서'\n",
      "NEWLINE NEWLINE '\\r\\n'\n",
      "NL NL '\\r\\n'\n",
      "COMMENT COMMENT '# str concatenation'\n",
      "NL NL '\\r\\n'\n",
      "NAME NAME 'print'\n",
      "OP LPAR '('\n",
      "STRING STRING '\"I am \"'\n",
      "OP PLUS '+'\n",
      "NAME NAME 'name'\n",
      "OP PLUS '+'\n",
      "STRING STRING '\". I belong to \"'\n",
      "OP PLUS '+'\n",
      "NAME NAME 'dept'\n",
      "OP PLUS '+'\n",
      "STRING STRING '\" department.\"'\n",
      "OP RPAR ')'\n",
      "NEWLINE NEWLINE '\\r\\n'\n",
      "NL NL '\\r\\n'\n",
      "COMMENT COMMENT '# %-formatting'\n",
      "NL NL '\\r\\n'\n",
      "NAME NAME 'print'\n",
      "OP LPAR '('\n",
      "STRING STRING '\"I am %s. I belong to %s department.\"'\n",
      "OP PERCENT '%'\n",
      "OP LPAR '('\n",
      "NAME NAME 'name'\n",
      "OP COMMA ','\n",
      "NAME NAME 'dept'\n",
      "OP RPAR ')'\n",
      "OP RPAR ')'\n",
      "NEWLINE NEWLINE '\\r\\n'\n",
      "NL NL '\\r\\n'\n",
      "COMMENT COMMENT '# str.format()'\n",
      "NL NL '\\r\\n'\n",
      "NAME NAME 'print'\n",
      "OP LPAR '('\n",
      "STRING STRING '\"I am {}. I belong to {} department.\"'\n",
      "OP DOT '.'\n",
      "NAME NAME 'format'\n",
      "OP LPAR '('\n",
      "NAME NAME 'name'\n",
      "OP COMMA ','\n",
      "NAME NAME 'dept'\n",
      "OP RPAR ')'\n",
      "OP RPAR ')'\n",
      "NEWLINE NEWLINE '\\r\\n'\n",
      "NL NL '\\r\\n'\n",
      "COMMENT COMMENT '# f-strings (Python 3.6부터 지원)'\n",
      "NL NL '\\r\\n'\n",
      "NAME NAME 'print'\n",
      "OP LPAR '('\n",
      "STRING STRING 'f\"I am {name}. I belong to {dept} department.\"'\n",
      "OP RPAR ')'\n",
      "NEWLINE NEWLINE '\\r\\n'\n",
      "ENDMARKER ENDMARKER ''\n"
     ]
    }
   ],
   "source": [
    "import tokenize\n",
    "\n",
    "with open('hello.py', 'rb') as f:\n",
    "    tokens = tokenize.tokenize(f.readline)\n",
    "    for tok in tokens:\n",
    "        print(tokenize.tok_name[tok.type], tokenize.tok_name[tok.exact_type], repr(tok.string))"
   ]
  },
  {
   "cell_type": "code",
   "execution_count": 7,
   "metadata": {},
   "outputs": [
    {
     "name": "stdout",
     "output_type": "stream",
     "text": [
      "[0, 0, 0]\n"
     ]
    }
   ],
   "source": [
    "import tokenize\n",
    "\n",
    "\n",
    "# 부등호 선호도(<,>,<=,>=)\n",
    "# parameter : tokenize된 값\n",
    "# return: Array(3) => 0: \"\" 의 개수, 1: '' 의 개수, 2: 총 개수\n",
    "\n",
    "def InequalitySign_Preference(tokens):\n",
    "    Less=[\"<\",\"<=\"]\n",
    "    Greater=[\">\",\">=\"] \n",
    "    result=[0,0,0]\n",
    "    for tok in tokens:\n",
    "        if(tokenize.tok_name[tok.type] == \"OP\"):\n",
    "            if (tok.string in Less):\n",
    "                result[0] += 1\n",
    "            elif(tok.string in Greater):\n",
    "                result[1] += 1\n",
    "    result[2]=result[0]+result[1]\n",
    "    \n",
    "    return result    \n",
    "    \n",
    "\n",
    "with open('hello.py', 'rb') as f:\n",
    "    tokens = tokenize.tokenize(f.readline)\n",
    "    print(InequalitySign_Preference(tokens)) "
   ]
  }
 ],
 "metadata": {
  "kernelspec": {
   "display_name": "Python 3",
   "language": "python",
   "name": "python3"
  },
  "language_info": {
   "codemirror_mode": {
    "name": "ipython",
    "version": 3
   },
   "file_extension": ".py",
   "mimetype": "text/x-python",
   "name": "python",
   "nbconvert_exporter": "python",
   "pygments_lexer": "ipython3",
   "version": "3.7.7"
  }
 },
 "nbformat": 4,
 "nbformat_minor": 4
}
